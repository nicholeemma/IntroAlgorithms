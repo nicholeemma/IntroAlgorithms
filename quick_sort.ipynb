{
 "cells": [
  {
   "cell_type": "code",
   "execution_count": 1,
   "metadata": {},
   "outputs": [],
   "source": [
    "list1=[2,1,7,4,5,3,8,5,6]"
   ]
  },
  {
   "cell_type": "code",
   "execution_count": 3,
   "metadata": {},
   "outputs": [],
   "source": [
    "def parition(list1,first,last):\n",
    "    tmp=0\n",
    "    pivot=list1[first]\n",
    "    low=first+1\n",
    "    high=last\n",
    "    while (high>low):\n",
    "        while(low<=high and list1[low]<=pivot):\n",
    "            low+=1\n",
    "        while(low<=high and list1[high]>pivot):\n",
    "            high-=1\n",
    "        if high>low:\n",
    "            tmp=list1[high]\n",
    "            list1[high]=list1[low]\n",
    "            list1[low]=tmp\n",
    "    while(high>first and list1[high]>=pivot):\n",
    "        high-=1\n",
    "    if pivot>list1[high]:\n",
    "        list1[first]=list1[high]\n",
    "        list1[high]=pivot\n",
    "        return high\n",
    "    else:\n",
    "        return first"
   ]
  },
  {
   "cell_type": "code",
   "execution_count": 4,
   "metadata": {},
   "outputs": [],
   "source": [
    "def quicksort(list1,first,last):\n",
    "    if last>first:\n",
    "        pivotindex=parition(list1,first,last)\n",
    "        quicksort(list1,pivotindex+1,last)\n",
    "        quicksort(list1,first,pivotindex-1)"
   ]
  },
  {
   "cell_type": "code",
   "execution_count": 6,
   "metadata": {},
   "outputs": [],
   "source": [
    "quicksort(list1,0,len(list1)-1)"
   ]
  },
  {
   "cell_type": "code",
   "execution_count": 7,
   "metadata": {},
   "outputs": [
    {
     "data": {
      "text/plain": [
       "[1, 2, 3, 4, 5, 5, 6, 7, 8]"
      ]
     },
     "execution_count": 7,
     "metadata": {},
     "output_type": "execute_result"
    }
   ],
   "source": [
    "list1"
   ]
  },
  {
   "cell_type": "code",
   "execution_count": null,
   "metadata": {},
   "outputs": [],
   "source": []
  }
 ],
 "metadata": {
  "kernelspec": {
   "display_name": "Python 3",
   "language": "python",
   "name": "python3"
  },
  "language_info": {
   "codemirror_mode": {
    "name": "ipython",
    "version": 3
   },
   "file_extension": ".py",
   "mimetype": "text/x-python",
   "name": "python",
   "nbconvert_exporter": "python",
   "pygments_lexer": "ipython3",
   "version": "3.6.5"
  }
 },
 "nbformat": 4,
 "nbformat_minor": 2
}
