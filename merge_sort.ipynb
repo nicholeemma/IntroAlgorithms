{
 "cells": [
  {
   "cell_type": "code",
   "execution_count": 1,
   "metadata": {},
   "outputs": [],
   "source": [
    "#merge sort A{1,2,..,n}\n",
    "#1.if n =1, done\n",
    "#2.recursively sort two list A[1...n/2] and A[n/2...n]\n",
    "#3.merge"
   ]
  },
  {
   "cell_type": "code",
   "execution_count": 33,
   "metadata": {},
   "outputs": [],
   "source": [
    "def sortt(nums):\n",
    "    if len(nums)==1:\n",
    "        return nums\n",
    "                    \n",
    "    return merge(sortt(nums[:(int)(len(nums)/2)]),sortt(nums[(int)(len(nums)/2):]))\n"
   ]
  },
  {
   "cell_type": "code",
   "execution_count": 32,
   "metadata": {},
   "outputs": [],
   "source": [
    "def merge(a,b):\n",
    "    result=[]\n",
    "    while a and b:\n",
    "        if a[0]<b[0]:\n",
    "            result.append(a.pop(0))\n",
    "        else:\n",
    "            result.append(b.pop(0))\n",
    "    if a:\n",
    "        result+=a\n",
    "    if b:\n",
    "        result+=b\n",
    "    return result\n",
    "    "
   ]
  },
  {
   "cell_type": "code",
   "execution_count": 35,
   "metadata": {},
   "outputs": [
    {
     "data": {
      "text/plain": [
       "[1, 3, 4, 4, 5, 6, 7, 7, 76]"
      ]
     },
     "execution_count": 35,
     "metadata": {},
     "output_type": "execute_result"
    }
   ],
   "source": [
    "sortt(list2)"
   ]
  },
  {
   "cell_type": "code",
   "execution_count": 34,
   "metadata": {},
   "outputs": [],
   "source": [
    "list2=[4,3,5,1,76,4,6,7,7]"
   ]
  },
  {
   "cell_type": "code",
   "execution_count": null,
   "metadata": {},
   "outputs": [],
   "source": []
  }
 ],
 "metadata": {
  "kernelspec": {
   "display_name": "Python 3",
   "language": "python",
   "name": "python3"
  },
  "language_info": {
   "codemirror_mode": {
    "name": "ipython",
    "version": 3
   },
   "file_extension": ".py",
   "mimetype": "text/x-python",
   "name": "python",
   "nbconvert_exporter": "python",
   "pygments_lexer": "ipython3",
   "version": "3.6.5"
  }
 },
 "nbformat": 4,
 "nbformat_minor": 2
}
